{
 "cells": [
  {
   "cell_type": "markdown",
   "id": "b43645f8",
   "metadata": {},
   "source": [
    "# **Agrupación de K-Means con Python**      \n",
    "by Anahí Zárate"
   ]
  },
  {
   "cell_type": "markdown",
   "id": "f699c89e",
   "metadata": {},
   "source": [
    "En este notebook implemento la agrupación en clústeres K-Means para encontrar grupos intrínsecos dentro del conjunto de datos que muestren el mismo comportamiento de \"status_type\". La variable de comportamiento \\text{status_type} consta de publicaciones de diferente naturaleza (video, fotos, estados y enlaces).\n"
   ]
  },
  {
   "cell_type": "markdown",
   "id": "5e97274c",
   "metadata": {},
   "source": [
    "## **1. Introduction to K-Means Clustering** "
   ]
  },
  {
   "cell_type": "markdown",
   "id": "f2a87043",
   "metadata": {},
   "source": [
    "Los algoritmos de aprendizaje automático se pueden clasificar en dos categorías: aprendizaje supervisado y no supervisado. \n",
    "\n",
    "   **Aprendizaje supervisado:** El enfoque de aprendizaje supervisado en el ML utiliza conjuntos de datos etiquetados que entrenan algoritmos para clasificar datos o predecir resultados con precisión. El modelo utiliza los datos etiquetados para medir la relevancia de las diferentes características a fin de mejorar gradualmente el ajuste del modelo al resultado conocido. El aprendizaje supervisado se puede agrupar en dos tipos fundamentales:\n",
    "\n",
    "   - *Clasificación:* un problema de clasificación utiliza algoritmos para clasificar datos en segmentos particulares. Un ejemplo cotidiano de esto es un algoritmo que ayuda a rechazar correo no deseado en una bandeja de entrada de correo electrónico principal o un algoritmo que le permite a un usuario bloquear o restringir a alguien en las redes sociales. Algunos algoritmos de clasificación comunes incluyen regresión logística, k vecinos más cercanos, bosque aleatorio, clasificador bayesiano simple, descenso de gradiente estocástico y árboles de decisión.\n",
    "   - *Regresión:* este es un método estadístico y de ML que utiliza algoritmos para medir la relación entre una variable dependiente y una o más variables independientes. Con los modelos de regresión, el usuario puede hacer predicciones de causa y efecto basadas en diversos puntos de datos. Por ejemplo, en una empresa, esto podría implicar predecir la trayectoria de crecimiento de los ingresos de publicidad. Algunos algoritmos de regresión comunes incluyen regresión de Ridge, Lasso, regresión de redes neuronales y regresión logística.\n",
    "\n",
    "**Aprendizaje no supervisado:** Con el aprendizaje no supervisado, se utilizan algoritmos de ML para examinar y agrupar los conjuntos de datos no etiquetados. Dichos algoritmos pueden descubrir patrones desconocidos en los datos sin supervisión humana. Existen tres categorías principales de algoritmos:\n",
    "\n",
    "   - *Agrupación de clústeres:* según las similitudes o diferencias, los datos no etiquetados se clasifican mediante técnicas de agrupación de clústeres. Por ejemplo, si una empresa está trabajando en la segmentación de mercado, el algoritmo de agrupación de clústeres de K-medias asignará puntos de datos similares a los grupos que representan un conjunto de parámetros. Esto podría crear agrupaciones en función de la ubicación, los niveles de ingresos, la edad de los compradores o alguna otra variable.\n",
    "   - *Asociación:* si un usuario desea identificar las relaciones de las variables dentro de un conjunto de datos, usar el método de asociación de aprendizaje no supervisado es útil. Este es el método que se utiliza para crear el mensaje: “Otros clientes también vieron…” Es un método que se adapta perfectamente a los motores de recomendaciones. 15 clientes compraron un teléfono nuevo y también compraron los audífonos que lo complementan. Por lo tanto, los algoritmos recomiendan audífonos a todos los clientes que colocan un teléfono en su carro de compras.\n",
    "   - *Reducción de dimensionalidad:* a veces, un conjunto de datos tiene un conjunto de características inusualmente alto. La reducción de la dimensionalidad ayuda a acotar este número sin comprometer la integridad de los datos. Esta es una técnica que se utiliza comúnmente antes de procesar los datos. Un ejemplo de ello es la eliminación del ruido de una imagen para mejorar su claridad visual.\n",
    "\n"
   ]
  },
  {
   "attachments": {
    "Sin%20t%C3%ADtulo.png": {
     "image/png": "[encoded data removed]"
    }
   },
   "cell_type": "markdown",
   "id": "57316943",
   "metadata": {},
   "source": [
    "![Sin%20t%C3%ADtulo.png](attachment:Sin%20t%C3%ADtulo.png)"
   ]
  },
  {
   "cell_type": "markdown",
   "id": "c7d32c31",
   "metadata": {},
   "source": [
    "## **2. Applications of clustering**"
   ]
  },
  {
   "cell_type": "markdown",
   "id": "8bd3978c",
   "metadata": {},
   "source": [
    "- La agrupación en clústeres K-Means es el algoritmo de aprendizaje automático no supervisado más común. Es ampliamente utilizado para muchas aplicaciones que incluyen:\n",
    "  1. Segmentación de imágenes\n",
    "\n",
    "  2. Segmentación de clientes\n",
    "\n",
    "  3. Agrupación de especies\n",
    "\n",
    "  4. Detección de anomalías\n",
    "\n",
    "  5. Agrupación de lenguajes"
   ]
  },
  {
   "cell_type": "markdown",
   "id": "a654ceb0",
   "metadata": {},
   "source": [
    "# **3. Intuición de agrupación de K-medias**"
   ]
  },
  {
   "cell_type": "markdown",
   "id": "a52c5775",
   "metadata": {},
   "source": [
    "En el problema de agrupamiento, se nos proporciona un conjunto de entrenamiento ${x^{(1)}, ..., x^{(m)}}$ y queremos agrupar los datos en algunos \"grupos\" cohesivos. Aquí, se nos proporcionan vectores de características para cada punto de datos $x^{(i)} \\in \\mathbb{R}^n$ como de costumbre; pero no hay etiquetas $y^{(i)}$ (lo que lo convierte en un problema de aprendizaje no supervisado). Nuestro objetivo es predecir $k$ centroides y una etiqueta $c^{(i)}$ para cada punto de datos. El algoritmo de agrupamiento de k-medias es el siguiente:\n",
    "    \n",
    "   1.- Inicializar los **centroides del clúster** $\\mu_1, \\mu_2,\\ldots, \\mu_k \\in \\mathbb{R}^n$ aleatoriamente.\n",
    "    \n",
    "   2.- Repetir hasta la convergencia: Para toda $i$, sea \n",
    "    $$c^{(i)}:= \\arg\\min_{j}||x^{(i)-\\mu_j||^2}.$$\n",
    "   Para cada $j$, establezca \n",
    "   $$\n",
    "   \\mu_j :=  \\frac{\\sum_{i=1}^m1\\{c^{(i)}=j\\}x^{(i)}}{\\sum_{i=1}^m1\\{c^{(i)}=j\\}}\n",
    "   $$\n",
    "\n"
   ]
  },
  {
   "attachments": {
    "images.png": {
     "image/png": "[encoded data removed]"
    }
   },
   "cell_type": "markdown",
   "id": "78d51c51",
   "metadata": {},
   "source": [
    "Cada centroide define uno de los grupos. En este paso, cada punto de datos se asigna a su centroide más cercano, que se basa en la distancia euclidiana al cuadrado. Entonces, si $c^{(i)}$ es la colección de centroides en el conjunto $C$, entonces cada punto de datos se asigna a un grupo según la distancia euclidiana mínima.\n",
    "\n",
    "El algoritmo itera entre el paso 1 y el paso 2 hasta que se cumple un criterio de parada. Los criterios de parada significan que ningún punto de los datos cambia los grupos, se minimiza la suma de las distancias o se alcanza un número máximo de iteraciones.\n",
    "Se garantiza que este algoritmo convergerá hacia un resultado. El resultado puede ser un óptimo local, lo que significa que evaluar más de una ejecución del algoritmo con centroides iniciales aleatorios puede dar un mejor resultado.\n",
    "![images.png](attachment:images.png)\n"
   ]
  },
  {
   "cell_type": "markdown",
   "id": "5b183403",
   "metadata": {},
   "source": [
    "## **4. Eligiendo el valor de K**"
   ]
  },
  {
   "attachments": {
    "images.png": {
     "image/png": "[encoded data removed]"
    }
   },
   "cell_type": "markdown",
   "id": "267b6c89",
   "metadata": {},
   "source": [
    "El algoritmo K-Means depende de encontrar la cantidad de grupos y etiquetas de datos para un valor predefinido de K. Para encontrar la cantidad de grupos en los datos, necesitamos ejecutar el algoritmo de agrupación K-Means para diferentes valores de K y comparar los resultados. Entonces, el rendimiento del algoritmo K-Means depende del valor de K. Debemos elegir el valor óptimo de K que nos brinde el mejor rendimiento. Existen diferentes técnicas disponibles para encontrar el valor óptimo de K. La técnica más común es el **método del codo** que se describe a continuación.\n",
    "\n",
    "### **El método del codo:**\n",
    "\n",
    "El método del codo se utiliza para determinar el número óptimo de grupos en la agrupación de K-medias. El método del codo traza el valor de la función de costos producida por diferentes valores de K. El siguiente diagrama muestra cómo funciona el método del codo:\n",
    "\n",
    "![images.png](attachment:images.png)"
   ]
  },
  {
   "cell_type": "markdown",
   "id": "f6056a58",
   "metadata": {},
   "source": [
    "Podemos ver que si K aumenta, la distorsión promedio disminuirá. Entonces, cada grupo tendrá menos instancias constituyentes y las instancias estarán más cerca de sus respectivos centroides. Sin embargo, las mejoras en la distorsión promedio disminuirán a medida que K aumente. El valor de K en el que la mejora en la distorsión disminuye más se llama codo, en el que deberíamos dejar de dividir los datos en más grupos."
   ]
  },
  {
   "cell_type": "markdown",
   "id": "b01a5bbd",
   "metadata": {},
   "source": [
    "# **6. Importar librerias necesarias**"
   ]
  },
  {
   "cell_type": "code",
   "execution_count": 2,
   "id": "3c204ac9",
   "metadata": {},
   "outputs": [],
   "source": [
    "import numpy as np # Para algebra linel\n",
    "import pandas as pd # Procesamiento de datos\n",
    "import matplotlib.pyplot as plt # Visualización de datos\n",
    "import seaborn as sns # Para visualización de datos estadísticos\n",
    "%matplotlib inline\n",
    "\n",
    "import warnings\n",
    "\n",
    "warnings.filterwarnings('ignore')"
   ]
  },
  {
   "cell_type": "markdown",
   "id": "d6cd5bd4",
   "metadata": {},
   "source": [
    "### 6.1 Importamos el conjunto de datos"
   ]
  },
  {
   "cell_type": "code",
   "execution_count": 3,
   "id": "2c276c9b",
   "metadata": {},
   "outputs": [],
   "source": [
    "df = pd.read_csv('Live.csv')"
   ]
  },
  {
   "cell_type": "markdown",
   "id": "feda44b2",
   "metadata": {},
   "source": [
    "## 7. Análisis Exploratorio de los datos"
   ]
  },
  {
   "cell_type": "markdown",
   "id": "0eef1992",
   "metadata": {},
   "source": [
    "#### Verificar la forma del conjunto de datos"
   ]
  },
  {
   "cell_type": "code",
   "execution_count": 4,
   "id": "1a231af4",
   "metadata": {},
   "outputs": [
    {
     "data": {
      "text/plain": [
       "(7050, 16)"
      ]
     },
     "execution_count": 4,
     "metadata": {},
     "output_type": "execute_result"
    }
   ],
   "source": [
    "df.shape"
   ]
  },
  {
   "cell_type": "markdown",
   "id": "bcdebec2",
   "metadata": {},
   "source": [
    "Podemos ver que hay 7050 instancias y 16 atributos en el conjunto de datos. En la descripción del conjunto de datos, se indica que hay 7051 instancias y 12 atributos en el conjunto de datos.\n",
    "\n",
    "Entonces, podemos inferir que la primera instancia es el encabezado de la fila y hay 4 atributos adicionales en el conjunto de datos. A continuación, deberíamos echar un vistazo al conjunto de datos para obtener más información al respecto."
   ]
  },
  {
   "cell_type": "markdown",
   "id": "d4a8c3c2",
   "metadata": {},
   "source": [
    "#### Vista previa del conjunto de datos"
   ]
  },
  {
   "cell_type": "code",
   "execution_count": 5,
   "id": "bfc37c18",
   "metadata": {},
   "outputs": [
    {
     "data": {
      "text/html": [
       "<div>\n",
       "<style scoped>\n",
       "    .dataframe tbody tr th:only-of-type {\n",
       "        vertical-align: middle;\n",
       "    }\n",
       "\n",
       "    .dataframe tbody tr th {\n",
       "        vertical-align: top;\n",
       "    }\n",
       "\n",
       "    .dataframe thead th {\n",
       "        text-align: right;\n",
       "    }\n",
       "</style>\n",
       "<table border=\"1\" class=\"dataframe\">\n",
       "  <thead>\n",
       "    <tr style=\"text-align: right;\">\n",
       "      <th></th>\n",
       "      <th>status_id</th>\n",
       "      <th>status_type</th>\n",
       "      <th>status_published</th>\n",
       "      <th>num_reactions</th>\n",
       "      <th>num_comments</th>\n",
       "      <th>num_shares</th>\n",
       "      <th>num_likes</th>\n",
       "      <th>num_loves</th>\n",
       "      <th>num_wows</th>\n",
       "      <th>num_hahas</th>\n",
       "      <th>num_sads</th>\n",
       "      <th>num_angrys</th>\n",
       "      <th>Column1</th>\n",
       "      <th>Column2</th>\n",
       "      <th>Column3</th>\n",
       "      <th>Column4</th>\n",
       "    </tr>\n",
       "  </thead>\n",
       "  <tbody>\n",
       "    <tr>\n",
       "      <th>0</th>\n",
       "      <td>246675545449582_1649696485147474</td>\n",
       "      <td>video</td>\n",
       "      <td>4/22/2018 6:00</td>\n",
       "      <td>529</td>\n",
       "      <td>512</td>\n",
       "      <td>262</td>\n",
       "      <td>432</td>\n",
       "      <td>92</td>\n",
       "      <td>3</td>\n",
       "      <td>1</td>\n",
       "      <td>1</td>\n",
       "      <td>0</td>\n",
       "      <td>NaN</td>\n",
       "      <td>NaN</td>\n",
       "      <td>NaN</td>\n",
       "      <td>NaN</td>\n",
       "    </tr>\n",
       "    <tr>\n",
       "      <th>1</th>\n",
       "      <td>246675545449582_1649426988507757</td>\n",
       "      <td>photo</td>\n",
       "      <td>4/21/2018 22:45</td>\n",
       "      <td>150</td>\n",
       "      <td>0</td>\n",
       "      <td>0</td>\n",
       "      <td>150</td>\n",
       "      <td>0</td>\n",
       "      <td>0</td>\n",
       "      <td>0</td>\n",
       "      <td>0</td>\n",
       "      <td>0</td>\n",
       "      <td>NaN</td>\n",
       "      <td>NaN</td>\n",
       "      <td>NaN</td>\n",
       "      <td>NaN</td>\n",
       "    </tr>\n",
       "    <tr>\n",
       "      <th>2</th>\n",
       "      <td>246675545449582_1648730588577397</td>\n",
       "      <td>video</td>\n",
       "      <td>4/21/2018 6:17</td>\n",
       "      <td>227</td>\n",
       "      <td>236</td>\n",
       "      <td>57</td>\n",
       "      <td>204</td>\n",
       "      <td>21</td>\n",
       "      <td>1</td>\n",
       "      <td>1</td>\n",
       "      <td>0</td>\n",
       "      <td>0</td>\n",
       "      <td>NaN</td>\n",
       "      <td>NaN</td>\n",
       "      <td>NaN</td>\n",
       "      <td>NaN</td>\n",
       "    </tr>\n",
       "    <tr>\n",
       "      <th>3</th>\n",
       "      <td>246675545449582_1648576705259452</td>\n",
       "      <td>photo</td>\n",
       "      <td>4/21/2018 2:29</td>\n",
       "      <td>111</td>\n",
       "      <td>0</td>\n",
       "      <td>0</td>\n",
       "      <td>111</td>\n",
       "      <td>0</td>\n",
       "      <td>0</td>\n",
       "      <td>0</td>\n",
       "      <td>0</td>\n",
       "      <td>0</td>\n",
       "      <td>NaN</td>\n",
       "      <td>NaN</td>\n",
       "      <td>NaN</td>\n",
       "      <td>NaN</td>\n",
       "    </tr>\n",
       "    <tr>\n",
       "      <th>4</th>\n",
       "      <td>246675545449582_1645700502213739</td>\n",
       "      <td>photo</td>\n",
       "      <td>4/18/2018 3:22</td>\n",
       "      <td>213</td>\n",
       "      <td>0</td>\n",
       "      <td>0</td>\n",
       "      <td>204</td>\n",
       "      <td>9</td>\n",
       "      <td>0</td>\n",
       "      <td>0</td>\n",
       "      <td>0</td>\n",
       "      <td>0</td>\n",
       "      <td>NaN</td>\n",
       "      <td>NaN</td>\n",
       "      <td>NaN</td>\n",
       "      <td>NaN</td>\n",
       "    </tr>\n",
       "  </tbody>\n",
       "</table>\n",
       "</div>"
      ],
      "text/plain": [
       "                          status_id status_type status_published  \\\n",
       "0  246675545449582_1649696485147474       video   4/22/2018 6:00   \n",
       "1  246675545449582_1649426988507757       photo  4/21/2018 22:45   \n",
       "2  246675545449582_1648730588577397       video   4/21/2018 6:17   \n",
       "3  246675545449582_1648576705259452       photo   4/21/2018 2:29   \n",
       "4  246675545449582_1645700502213739       photo   4/18/2018 3:22   \n",
       "\n",
       "   num_reactions  num_comments  num_shares  num_likes  num_loves  num_wows  \\\n",
       "0            529           512         262        432         92         3   \n",
       "1            150             0           0        150          0         0   \n",
       "2            227           236          57        204         21         1   \n",
       "3            111             0           0        111          0         0   \n",
       "4            213             0           0        204          9         0   \n",
       "\n",
       "   num_hahas  num_sads  num_angrys  Column1  Column2  Column3  Column4  \n",
       "0          1         1           0      NaN      NaN      NaN      NaN  \n",
       "1          0         0           0      NaN      NaN      NaN      NaN  \n",
       "2          1         0           0      NaN      NaN      NaN      NaN  \n",
       "3          0         0           0      NaN      NaN      NaN      NaN  \n",
       "4          0         0           0      NaN      NaN      NaN      NaN  "
      ]
     },
     "execution_count": 5,
     "metadata": {},
     "output_type": "execute_result"
    }
   ],
   "source": [
    "df.head()"
   ]
  },
  {
   "cell_type": "markdown",
   "id": "e62b9b37",
   "metadata": {},
   "source": [
    "#### Resumen del dataset"
   ]
  },
  {
   "cell_type": "code",
   "execution_count": 6,
   "id": "2086d4a5",
   "metadata": {},
   "outputs": [
    {
     "name": "stdout",
     "output_type": "stream",
     "text": [
      "<class 'pandas.core.frame.DataFrame'>\n",
      "RangeIndex: 7050 entries, 0 to 7049\n",
      "Data columns (total 16 columns):\n",
      " #   Column            Non-Null Count  Dtype  \n",
      "---  ------            --------------  -----  \n",
      " 0   status_id         7050 non-null   object \n",
      " 1   status_type       7050 non-null   object \n",
      " 2   status_published  7050 non-null   object \n",
      " 3   num_reactions     7050 non-null   int64  \n",
      " 4   num_comments      7050 non-null   int64  \n",
      " 5   num_shares        7050 non-null   int64  \n",
      " 6   num_likes         7050 non-null   int64  \n",
      " 7   num_loves         7050 non-null   int64  \n",
      " 8   num_wows          7050 non-null   int64  \n",
      " 9   num_hahas         7050 non-null   int64  \n",
      " 10  num_sads          7050 non-null   int64  \n",
      " 11  num_angrys        7050 non-null   int64  \n",
      " 12  Column1           0 non-null      float64\n",
      " 13  Column2           0 non-null      float64\n",
      " 14  Column3           0 non-null      float64\n",
      " 15  Column4           0 non-null      float64\n",
      "dtypes: float64(4), int64(9), object(3)\n",
      "memory usage: 881.4+ KB\n"
     ]
    }
   ],
   "source": [
    "df.info()"
   ]
  },
  {
   "cell_type": "markdown",
   "id": "df60555d",
   "metadata": {},
   "source": [
    "#### Revisamos los valores faltantes en el dataset"
   ]
  },
  {
   "cell_type": "code",
   "execution_count": 7,
   "id": "c54bfacb",
   "metadata": {},
   "outputs": [
    {
     "data": {
      "text/plain": [
       "status_id              0\n",
       "status_type            0\n",
       "status_published       0\n",
       "num_reactions          0\n",
       "num_comments           0\n",
       "num_shares             0\n",
       "num_likes              0\n",
       "num_loves              0\n",
       "num_wows               0\n",
       "num_hahas              0\n",
       "num_sads               0\n",
       "num_angrys             0\n",
       "Column1             7050\n",
       "Column2             7050\n",
       "Column3             7050\n",
       "Column4             7050\n",
       "dtype: int64"
      ]
     },
     "execution_count": 7,
     "metadata": {},
     "output_type": "execute_result"
    }
   ],
   "source": [
    "df.isnull().sum()"
   ]
  },
  {
   "cell_type": "markdown",
   "id": "09d24513",
   "metadata": {},
   "source": [
    "Podemos ver que hay 4 columnas redundantes en el conjunto de datos. Deberíamos eliminarlas antes de continuar."
   ]
  },
  {
   "cell_type": "code",
   "execution_count": 8,
   "id": "d6f0c0e4",
   "metadata": {},
   "outputs": [],
   "source": [
    "df.drop(['Column1', 'Column2', 'Column3', 'Column4'], axis=1, inplace=True)"
   ]
  },
  {
   "cell_type": "markdown",
   "id": "356ef9fe",
   "metadata": {},
   "source": [
    "#### Volvemos a ver el resumen de los datos"
   ]
  },
  {
   "cell_type": "code",
   "execution_count": 9,
   "id": "1d3c1a2a",
   "metadata": {},
   "outputs": [
    {
     "name": "stdout",
     "output_type": "stream",
     "text": [
      "<class 'pandas.core.frame.DataFrame'>\n",
      "RangeIndex: 7050 entries, 0 to 7049\n",
      "Data columns (total 12 columns):\n",
      " #   Column            Non-Null Count  Dtype \n",
      "---  ------            --------------  ----- \n",
      " 0   status_id         7050 non-null   object\n",
      " 1   status_type       7050 non-null   object\n",
      " 2   status_published  7050 non-null   object\n",
      " 3   num_reactions     7050 non-null   int64 \n",
      " 4   num_comments      7050 non-null   int64 \n",
      " 5   num_shares        7050 non-null   int64 \n",
      " 6   num_likes         7050 non-null   int64 \n",
      " 7   num_loves         7050 non-null   int64 \n",
      " 8   num_wows          7050 non-null   int64 \n",
      " 9   num_hahas         7050 non-null   int64 \n",
      " 10  num_sads          7050 non-null   int64 \n",
      " 11  num_angrys        7050 non-null   int64 \n",
      "dtypes: int64(9), object(3)\n",
      "memory usage: 661.1+ KB\n"
     ]
    }
   ],
   "source": [
    "df.info()"
   ]
  },
  {
   "cell_type": "markdown",
   "id": "79ac63cc",
   "metadata": {},
   "source": [
    "Ahora podemos ver que las columnas redundantes se han eliminado del conjunto de datos.\n",
    "\n",
    "Podemos ver que hay 3 variables de caracteres (tipo de datos = objeto) y 9 variables numéricas restantes (tipo de datos = int64)."
   ]
  },
  {
   "cell_type": "markdown",
   "id": "594f2fb6",
   "metadata": {},
   "source": [
    "#### Resumen estadístico del dataset"
   ]
  },
  {
   "cell_type": "code",
   "execution_count": 10,
   "id": "7a5be1ef",
   "metadata": {},
   "outputs": [
    {
     "data": {
      "text/html": [
       "<div>\n",
       "<style scoped>\n",
       "    .dataframe tbody tr th:only-of-type {\n",
       "        vertical-align: middle;\n",
       "    }\n",
       "\n",
       "    .dataframe tbody tr th {\n",
       "        vertical-align: top;\n",
       "    }\n",
       "\n",
       "    .dataframe thead th {\n",
       "        text-align: right;\n",
       "    }\n",
       "</style>\n",
       "<table border=\"1\" class=\"dataframe\">\n",
       "  <thead>\n",
       "    <tr style=\"text-align: right;\">\n",
       "      <th></th>\n",
       "      <th>num_reactions</th>\n",
       "      <th>num_comments</th>\n",
       "      <th>num_shares</th>\n",
       "      <th>num_likes</th>\n",
       "      <th>num_loves</th>\n",
       "      <th>num_wows</th>\n",
       "      <th>num_hahas</th>\n",
       "      <th>num_sads</th>\n",
       "      <th>num_angrys</th>\n",
       "    </tr>\n",
       "  </thead>\n",
       "  <tbody>\n",
       "    <tr>\n",
       "      <th>count</th>\n",
       "      <td>7050.000000</td>\n",
       "      <td>7050.000000</td>\n",
       "      <td>7050.000000</td>\n",
       "      <td>7050.000000</td>\n",
       "      <td>7050.000000</td>\n",
       "      <td>7050.000000</td>\n",
       "      <td>7050.000000</td>\n",
       "      <td>7050.000000</td>\n",
       "      <td>7050.000000</td>\n",
       "    </tr>\n",
       "    <tr>\n",
       "      <th>mean</th>\n",
       "      <td>230.117163</td>\n",
       "      <td>224.356028</td>\n",
       "      <td>40.022553</td>\n",
       "      <td>215.043121</td>\n",
       "      <td>12.728652</td>\n",
       "      <td>1.289362</td>\n",
       "      <td>0.696454</td>\n",
       "      <td>0.243688</td>\n",
       "      <td>0.113191</td>\n",
       "    </tr>\n",
       "    <tr>\n",
       "      <th>std</th>\n",
       "      <td>462.625309</td>\n",
       "      <td>889.636820</td>\n",
       "      <td>131.599965</td>\n",
       "      <td>449.472357</td>\n",
       "      <td>39.972930</td>\n",
       "      <td>8.719650</td>\n",
       "      <td>3.957183</td>\n",
       "      <td>1.597156</td>\n",
       "      <td>0.726812</td>\n",
       "    </tr>\n",
       "    <tr>\n",
       "      <th>min</th>\n",
       "      <td>0.000000</td>\n",
       "      <td>0.000000</td>\n",
       "      <td>0.000000</td>\n",
       "      <td>0.000000</td>\n",
       "      <td>0.000000</td>\n",
       "      <td>0.000000</td>\n",
       "      <td>0.000000</td>\n",
       "      <td>0.000000</td>\n",
       "      <td>0.000000</td>\n",
       "    </tr>\n",
       "    <tr>\n",
       "      <th>25%</th>\n",
       "      <td>17.000000</td>\n",
       "      <td>0.000000</td>\n",
       "      <td>0.000000</td>\n",
       "      <td>17.000000</td>\n",
       "      <td>0.000000</td>\n",
       "      <td>0.000000</td>\n",
       "      <td>0.000000</td>\n",
       "      <td>0.000000</td>\n",
       "      <td>0.000000</td>\n",
       "    </tr>\n",
       "    <tr>\n",
       "      <th>50%</th>\n",
       "      <td>59.500000</td>\n",
       "      <td>4.000000</td>\n",
       "      <td>0.000000</td>\n",
       "      <td>58.000000</td>\n",
       "      <td>0.000000</td>\n",
       "      <td>0.000000</td>\n",
       "      <td>0.000000</td>\n",
       "      <td>0.000000</td>\n",
       "      <td>0.000000</td>\n",
       "    </tr>\n",
       "    <tr>\n",
       "      <th>75%</th>\n",
       "      <td>219.000000</td>\n",
       "      <td>23.000000</td>\n",
       "      <td>4.000000</td>\n",
       "      <td>184.750000</td>\n",
       "      <td>3.000000</td>\n",
       "      <td>0.000000</td>\n",
       "      <td>0.000000</td>\n",
       "      <td>0.000000</td>\n",
       "      <td>0.000000</td>\n",
       "    </tr>\n",
       "    <tr>\n",
       "      <th>max</th>\n",
       "      <td>4710.000000</td>\n",
       "      <td>20990.000000</td>\n",
       "      <td>3424.000000</td>\n",
       "      <td>4710.000000</td>\n",
       "      <td>657.000000</td>\n",
       "      <td>278.000000</td>\n",
       "      <td>157.000000</td>\n",
       "      <td>51.000000</td>\n",
       "      <td>31.000000</td>\n",
       "    </tr>\n",
       "  </tbody>\n",
       "</table>\n",
       "</div>"
      ],
      "text/plain": [
       "       num_reactions  num_comments   num_shares    num_likes    num_loves  \\\n",
       "count    7050.000000   7050.000000  7050.000000  7050.000000  7050.000000   \n",
       "mean      230.117163    224.356028    40.022553   215.043121    12.728652   \n",
       "std       462.625309    889.636820   131.599965   449.472357    39.972930   \n",
       "min         0.000000      0.000000     0.000000     0.000000     0.000000   \n",
       "25%        17.000000      0.000000     0.000000    17.000000     0.000000   \n",
       "50%        59.500000      4.000000     0.000000    58.000000     0.000000   \n",
       "75%       219.000000     23.000000     4.000000   184.750000     3.000000   \n",
       "max      4710.000000  20990.000000  3424.000000  4710.000000   657.000000   \n",
       "\n",
       "          num_wows    num_hahas     num_sads   num_angrys  \n",
       "count  7050.000000  7050.000000  7050.000000  7050.000000  \n",
       "mean      1.289362     0.696454     0.243688     0.113191  \n",
       "std       8.719650     3.957183     1.597156     0.726812  \n",
       "min       0.000000     0.000000     0.000000     0.000000  \n",
       "25%       0.000000     0.000000     0.000000     0.000000  \n",
       "50%       0.000000     0.000000     0.000000     0.000000  \n",
       "75%       0.000000     0.000000     0.000000     0.000000  \n",
       "max     278.000000   157.000000    51.000000    31.000000  "
      ]
     },
     "execution_count": 10,
     "metadata": {},
     "output_type": "execute_result"
    }
   ],
   "source": [
    "df.describe()"
   ]
  },
  {
   "cell_type": "markdown",
   "id": "c27bafe5",
   "metadata": {},
   "source": [
    "Hay 3 variables categóricas en el conjunto de datos. Así que hay que explorarlas una por una."
   ]
  },
  {
   "cell_type": "markdown",
   "id": "29f26f5f",
   "metadata": {},
   "source": [
    "### Explorar la variable `status_id` "
   ]
  },
  {
   "cell_type": "code",
   "execution_count": 11,
   "id": "ba69d9b5",
   "metadata": {},
   "outputs": [
    {
     "data": {
      "text/plain": [
       "array(['246675545449582_1649696485147474',\n",
       "       '246675545449582_1649426988507757',\n",
       "       '246675545449582_1648730588577397', ...,\n",
       "       '1050855161656896_1060126464063099',\n",
       "       '1050855161656896_1058663487542730',\n",
       "       '1050855161656896_1050858841656528'], dtype=object)"
      ]
     },
     "execution_count": 11,
     "metadata": {},
     "output_type": "execute_result"
    }
   ],
   "source": [
    "# ver las etiquetas en la variable\n",
    "\n",
    "df['status_id'].unique()"
   ]
  },
  {
   "cell_type": "code",
   "execution_count": 12,
   "id": "77ab37f8",
   "metadata": {},
   "outputs": [
    {
     "data": {
      "text/plain": [
       "6997"
      ]
     },
     "execution_count": 12,
     "metadata": {},
     "output_type": "execute_result"
    }
   ],
   "source": [
    "# ver cuántos tipos diferentes de variables hay\n",
    "\n",
    "len(df['status_id'].unique())"
   ]
  },
  {
   "cell_type": "markdown",
   "id": "b5103925",
   "metadata": {},
   "source": [
    "Podemos ver que hay 6997 etiquetas únicas en la variable `status_id`. El número total de instancias en el conjunto de datos es 7050. Esto quiere decir que es aproximadamente un identificador único para cada una de las instancias. Por lo tanto, esta no es una variable utilizable."
   ]
  },
  {
   "cell_type": "markdown",
   "id": "2b4fa0c8",
   "metadata": {},
   "source": [
    "### Explorar la variable `status_published`"
   ]
  },
  {
   "cell_type": "code",
   "execution_count": 13,
   "id": "6a062cab",
   "metadata": {},
   "outputs": [
    {
     "data": {
      "text/plain": [
       "array(['4/22/2018 6:00', '4/21/2018 22:45', '4/21/2018 6:17', ...,\n",
       "       '9/21/2016 23:03', '9/20/2016 0:43', '9/10/2016 10:30'],\n",
       "      dtype=object)"
      ]
     },
     "execution_count": 13,
     "metadata": {},
     "output_type": "execute_result"
    }
   ],
   "source": [
    "# ver las etiquetas en la variable\n",
    "df['status_published'].unique()"
   ]
  },
  {
   "cell_type": "code",
   "execution_count": 14,
   "id": "39564a3b",
   "metadata": {},
   "outputs": [
    {
     "data": {
      "text/plain": [
       "6913"
      ]
     },
     "execution_count": 14,
     "metadata": {},
     "output_type": "execute_result"
    }
   ],
   "source": [
    "# ver cuántos tipos diferentes de variables hay\n",
    "len(df['status_published'].unique())"
   ]
  },
  {
   "cell_type": "markdown",
   "id": "8ccad950",
   "metadata": {},
   "source": [
    "Nuevamente, podemos ver que hay 6913 etiquetas únicas en la variable `status_published`. El número total de instancias en el conjunto de datos es 7050. También es aproximadamente un identificador único para cada una de las instancias. Por lo tanto, esta no es una variable útil."
   ]
  },
  {
   "cell_type": "markdown",
   "id": "a02402a5",
   "metadata": {},
   "source": [
    "### Explorar la variable `status_type`"
   ]
  },
  {
   "cell_type": "code",
   "execution_count": 15,
   "id": "cf47d279",
   "metadata": {},
   "outputs": [
    {
     "data": {
      "text/plain": [
       "array(['video', 'photo', 'link', 'status'], dtype=object)"
      ]
     },
     "execution_count": 15,
     "metadata": {},
     "output_type": "execute_result"
    }
   ],
   "source": [
    "# ver las etiquetas en la variable\n",
    "\n",
    "df['status_type'].unique()"
   ]
  },
  {
   "cell_type": "code",
   "execution_count": 16,
   "id": "350ff383",
   "metadata": {},
   "outputs": [
    {
     "data": {
      "text/plain": [
       "4"
      ]
     },
     "execution_count": 16,
     "metadata": {},
     "output_type": "execute_result"
    }
   ],
   "source": [
    "# ver cuántos tipos diferentes de variables hay\n",
    "\n",
    "len(df['status_type'].unique())"
   ]
  },
  {
   "cell_type": "markdown",
   "id": "8a3926c2",
   "metadata": {},
   "source": [
    "Podemos ver que hay 4 categorías de etiquetas en la variable `status_type`."
   ]
  },
  {
   "cell_type": "markdown",
   "id": "cbcd42eb",
   "metadata": {},
   "source": [
    "### Eliminamos las variables `status_id` y `status_published` del dataset\n"
   ]
  },
  {
   "cell_type": "code",
   "execution_count": 17,
   "id": "3b279ec9",
   "metadata": {},
   "outputs": [],
   "source": [
    "df.drop(['status_id', 'status_published'], axis=1, inplace=True)"
   ]
  },
  {
   "cell_type": "markdown",
   "id": "54752c16",
   "metadata": {},
   "source": [
    "Vemos nuevamente el resumen de los datos"
   ]
  },
  {
   "cell_type": "code",
   "execution_count": 18,
   "id": "3dd101e0",
   "metadata": {},
   "outputs": [
    {
     "name": "stdout",
     "output_type": "stream",
     "text": [
      "<class 'pandas.core.frame.DataFrame'>\n",
      "RangeIndex: 7050 entries, 0 to 7049\n",
      "Data columns (total 10 columns):\n",
      " #   Column         Non-Null Count  Dtype \n",
      "---  ------         --------------  ----- \n",
      " 0   status_type    7050 non-null   object\n",
      " 1   num_reactions  7050 non-null   int64 \n",
      " 2   num_comments   7050 non-null   int64 \n",
      " 3   num_shares     7050 non-null   int64 \n",
      " 4   num_likes      7050 non-null   int64 \n",
      " 5   num_loves      7050 non-null   int64 \n",
      " 6   num_wows       7050 non-null   int64 \n",
      " 7   num_hahas      7050 non-null   int64 \n",
      " 8   num_sads       7050 non-null   int64 \n",
      " 9   num_angrys     7050 non-null   int64 \n",
      "dtypes: int64(9), object(1)\n",
      "memory usage: 550.9+ KB\n"
     ]
    }
   ],
   "source": [
    "df.info()"
   ]
  },
  {
   "cell_type": "markdown",
   "id": "3d44de10",
   "metadata": {},
   "source": [
    "Previsualizamos nuevamente el conjunto de datos"
   ]
  },
  {
   "cell_type": "code",
   "execution_count": 19,
   "id": "9de07c8f",
   "metadata": {},
   "outputs": [
    {
     "data": {
      "text/html": [
       "<div>\n",
       "<style scoped>\n",
       "    .dataframe tbody tr th:only-of-type {\n",
       "        vertical-align: middle;\n",
       "    }\n",
       "\n",
       "    .dataframe tbody tr th {\n",
       "        vertical-align: top;\n",
       "    }\n",
       "\n",
       "    .dataframe thead th {\n",
       "        text-align: right;\n",
       "    }\n",
       "</style>\n",
       "<table border=\"1\" class=\"dataframe\">\n",
       "  <thead>\n",
       "    <tr style=\"text-align: right;\">\n",
       "      <th></th>\n",
       "      <th>status_type</th>\n",
       "      <th>num_reactions</th>\n",
       "      <th>num_comments</th>\n",
       "      <th>num_shares</th>\n",
       "      <th>num_likes</th>\n",
       "      <th>num_loves</th>\n",
       "      <th>num_wows</th>\n",
       "      <th>num_hahas</th>\n",
       "      <th>num_sads</th>\n",
       "      <th>num_angrys</th>\n",
       "    </tr>\n",
       "  </thead>\n",
       "  <tbody>\n",
       "    <tr>\n",
       "      <th>0</th>\n",
       "      <td>video</td>\n",
       "      <td>529</td>\n",
       "      <td>512</td>\n",
       "      <td>262</td>\n",
       "      <td>432</td>\n",
       "      <td>92</td>\n",
       "      <td>3</td>\n",
       "      <td>1</td>\n",
       "      <td>1</td>\n",
       "      <td>0</td>\n",
       "    </tr>\n",
       "    <tr>\n",
       "      <th>1</th>\n",
       "      <td>photo</td>\n",
       "      <td>150</td>\n",
       "      <td>0</td>\n",
       "      <td>0</td>\n",
       "      <td>150</td>\n",
       "      <td>0</td>\n",
       "      <td>0</td>\n",
       "      <td>0</td>\n",
       "      <td>0</td>\n",
       "      <td>0</td>\n",
       "    </tr>\n",
       "    <tr>\n",
       "      <th>2</th>\n",
       "      <td>video</td>\n",
       "      <td>227</td>\n",
       "      <td>236</td>\n",
       "      <td>57</td>\n",
       "      <td>204</td>\n",
       "      <td>21</td>\n",
       "      <td>1</td>\n",
       "      <td>1</td>\n",
       "      <td>0</td>\n",
       "      <td>0</td>\n",
       "    </tr>\n",
       "    <tr>\n",
       "      <th>3</th>\n",
       "      <td>photo</td>\n",
       "      <td>111</td>\n",
       "      <td>0</td>\n",
       "      <td>0</td>\n",
       "      <td>111</td>\n",
       "      <td>0</td>\n",
       "      <td>0</td>\n",
       "      <td>0</td>\n",
       "      <td>0</td>\n",
       "      <td>0</td>\n",
       "    </tr>\n",
       "    <tr>\n",
       "      <th>4</th>\n",
       "      <td>photo</td>\n",
       "      <td>213</td>\n",
       "      <td>0</td>\n",
       "      <td>0</td>\n",
       "      <td>204</td>\n",
       "      <td>9</td>\n",
       "      <td>0</td>\n",
       "      <td>0</td>\n",
       "      <td>0</td>\n",
       "      <td>0</td>\n",
       "    </tr>\n",
       "  </tbody>\n",
       "</table>\n",
       "</div>"
      ],
      "text/plain": [
       "  status_type  num_reactions  num_comments  num_shares  num_likes  num_loves  \\\n",
       "0       video            529           512         262        432         92   \n",
       "1       photo            150             0           0        150          0   \n",
       "2       video            227           236          57        204         21   \n",
       "3       photo            111             0           0        111          0   \n",
       "4       photo            213             0           0        204          9   \n",
       "\n",
       "   num_wows  num_hahas  num_sads  num_angrys  \n",
       "0         3          1         1           0  \n",
       "1         0          0         0           0  \n",
       "2         1          1         0           0  \n",
       "3         0          0         0           0  \n",
       "4         0          0         0           0  "
      ]
     },
     "execution_count": 19,
     "metadata": {},
     "output_type": "execute_result"
    }
   ],
   "source": [
    "df.head()"
   ]
  },
  {
   "cell_type": "markdown",
   "id": "b2293ddd",
   "metadata": {},
   "source": [
    "Podemos ver una columna no numérica `status_type` en el conjunto de datos. A continuación le asignaremos un número a cada nivel."
   ]
  },
  {
   "cell_type": "markdown",
   "id": "c261b548",
   "metadata": {},
   "source": [
    "## **8. Declarar el vector de características y la variable de destino**"
   ]
  },
  {
   "cell_type": "code",
   "execution_count": 20,
   "id": "7868a0c0",
   "metadata": {},
   "outputs": [],
   "source": [
    "X = df\n",
    "y = df['status_type']"
   ]
  },
  {
   "cell_type": "markdown",
   "id": "7a7a9df6",
   "metadata": {},
   "source": [
    "## **9. Convertir la variable categórica en números enteros**\n"
   ]
  },
  {
   "cell_type": "code",
   "execution_count": 22,
   "id": "8d12615e",
   "metadata": {},
   "outputs": [],
   "source": [
    "from sklearn.preprocessing import LabelEncoder\n",
    "le = LabelEncoder()\n",
    "X['status_type'] = le.fit_transform(X['status_type'])\n",
    "y = le.transform(y)"
   ]
  },
  {
   "cell_type": "markdown",
   "id": "66052872",
   "metadata": {},
   "source": [
    "Nuevamente visualizamos nuestros datos"
   ]
  },
  {
   "cell_type": "code",
   "execution_count": 23,
   "id": "8b783c86",
   "metadata": {},
   "outputs": [
    {
     "name": "stdout",
     "output_type": "stream",
     "text": [
      "<class 'pandas.core.frame.DataFrame'>\n",
      "RangeIndex: 7050 entries, 0 to 7049\n",
      "Data columns (total 10 columns):\n",
      " #   Column         Non-Null Count  Dtype\n",
      "---  ------         --------------  -----\n",
      " 0   status_type    7050 non-null   int64\n",
      " 1   num_reactions  7050 non-null   int64\n",
      " 2   num_comments   7050 non-null   int64\n",
      " 3   num_shares     7050 non-null   int64\n",
      " 4   num_likes      7050 non-null   int64\n",
      " 5   num_loves      7050 non-null   int64\n",
      " 6   num_wows       7050 non-null   int64\n",
      " 7   num_hahas      7050 non-null   int64\n",
      " 8   num_sads       7050 non-null   int64\n",
      " 9   num_angrys     7050 non-null   int64\n",
      "dtypes: int64(10)\n",
      "memory usage: 550.9 KB\n"
     ]
    }
   ],
   "source": [
    "X.info()"
   ]
  },
  {
   "cell_type": "code",
   "execution_count": 24,
   "id": "85a5a6f1",
   "metadata": {},
   "outputs": [
    {
     "data": {
      "text/html": [
       "<div>\n",
       "<style scoped>\n",
       "    .dataframe tbody tr th:only-of-type {\n",
       "        vertical-align: middle;\n",
       "    }\n",
       "\n",
       "    .dataframe tbody tr th {\n",
       "        vertical-align: top;\n",
       "    }\n",
       "\n",
       "    .dataframe thead th {\n",
       "        text-align: right;\n",
       "    }\n",
       "</style>\n",
       "<table border=\"1\" class=\"dataframe\">\n",
       "  <thead>\n",
       "    <tr style=\"text-align: right;\">\n",
       "      <th></th>\n",
       "      <th>status_type</th>\n",
       "      <th>num_reactions</th>\n",
       "      <th>num_comments</th>\n",
       "      <th>num_shares</th>\n",
       "      <th>num_likes</th>\n",
       "      <th>num_loves</th>\n",
       "      <th>num_wows</th>\n",
       "      <th>num_hahas</th>\n",
       "      <th>num_sads</th>\n",
       "      <th>num_angrys</th>\n",
       "    </tr>\n",
       "  </thead>\n",
       "  <tbody>\n",
       "    <tr>\n",
       "      <th>0</th>\n",
       "      <td>3</td>\n",
       "      <td>529</td>\n",
       "      <td>512</td>\n",
       "      <td>262</td>\n",
       "      <td>432</td>\n",
       "      <td>92</td>\n",
       "      <td>3</td>\n",
       "      <td>1</td>\n",
       "      <td>1</td>\n",
       "      <td>0</td>\n",
       "    </tr>\n",
       "    <tr>\n",
       "      <th>1</th>\n",
       "      <td>1</td>\n",
       "      <td>150</td>\n",
       "      <td>0</td>\n",
       "      <td>0</td>\n",
       "      <td>150</td>\n",
       "      <td>0</td>\n",
       "      <td>0</td>\n",
       "      <td>0</td>\n",
       "      <td>0</td>\n",
       "      <td>0</td>\n",
       "    </tr>\n",
       "    <tr>\n",
       "      <th>2</th>\n",
       "      <td>3</td>\n",
       "      <td>227</td>\n",
       "      <td>236</td>\n",
       "      <td>57</td>\n",
       "      <td>204</td>\n",
       "      <td>21</td>\n",
       "      <td>1</td>\n",
       "      <td>1</td>\n",
       "      <td>0</td>\n",
       "      <td>0</td>\n",
       "    </tr>\n",
       "    <tr>\n",
       "      <th>3</th>\n",
       "      <td>1</td>\n",
       "      <td>111</td>\n",
       "      <td>0</td>\n",
       "      <td>0</td>\n",
       "      <td>111</td>\n",
       "      <td>0</td>\n",
       "      <td>0</td>\n",
       "      <td>0</td>\n",
       "      <td>0</td>\n",
       "      <td>0</td>\n",
       "    </tr>\n",
       "    <tr>\n",
       "      <th>4</th>\n",
       "      <td>1</td>\n",
       "      <td>213</td>\n",
       "      <td>0</td>\n",
       "      <td>0</td>\n",
       "      <td>204</td>\n",
       "      <td>9</td>\n",
       "      <td>0</td>\n",
       "      <td>0</td>\n",
       "      <td>0</td>\n",
       "      <td>0</td>\n",
       "    </tr>\n",
       "  </tbody>\n",
       "</table>\n",
       "</div>"
      ],
      "text/plain": [
       "   status_type  num_reactions  num_comments  num_shares  num_likes  num_loves  \\\n",
       "0            3            529           512         262        432         92   \n",
       "1            1            150             0           0        150          0   \n",
       "2            3            227           236          57        204         21   \n",
       "3            1            111             0           0        111          0   \n",
       "4            1            213             0           0        204          9   \n",
       "\n",
       "   num_wows  num_hahas  num_sads  num_angrys  \n",
       "0         3          1         1           0  \n",
       "1         0          0         0           0  \n",
       "2         1          1         0           0  \n",
       "3         0          0         0           0  \n",
       "4         0          0         0           0  "
      ]
     },
     "execution_count": 24,
     "metadata": {},
     "output_type": "execute_result"
    }
   ],
   "source": [
    "X.head()"
   ]
  },
  {
   "cell_type": "markdown",
   "id": "2aa90445",
   "metadata": {},
   "source": [
    "## **10. Escalado de características**\n"
   ]
  },
  {
   "cell_type": "code",
   "execution_count": 25,
   "id": "ea94f089",
   "metadata": {},
   "outputs": [],
   "source": [
    "cols = X.columns"
   ]
  },
  {
   "cell_type": "code",
   "execution_count": 26,
   "id": "57d84b21",
   "metadata": {},
   "outputs": [],
   "source": [
    "from sklearn.preprocessing import MinMaxScaler\n",
    "ms = MinMaxScaler()\n",
    "X = ms.fit_transform(X)"
   ]
  },
  {
   "cell_type": "code",
   "execution_count": 27,
   "id": "77ef0676",
   "metadata": {},
   "outputs": [],
   "source": [
    "X = pd.DataFrame(X, columns=[cols])"
   ]
  },
  {
   "cell_type": "code",
   "execution_count": 28,
   "id": "b5804199",
   "metadata": {},
   "outputs": [
    {
     "data": {
      "text/html": [
       "<div>\n",
       "<style scoped>\n",
       "    .dataframe tbody tr th:only-of-type {\n",
       "        vertical-align: middle;\n",
       "    }\n",
       "\n",
       "    .dataframe tbody tr th {\n",
       "        vertical-align: top;\n",
       "    }\n",
       "\n",
       "    .dataframe thead tr th {\n",
       "        text-align: left;\n",
       "    }\n",
       "</style>\n",
       "<table border=\"1\" class=\"dataframe\">\n",
       "  <thead>\n",
       "    <tr>\n",
       "      <th></th>\n",
       "      <th>status_type</th>\n",
       "      <th>num_reactions</th>\n",
       "      <th>num_comments</th>\n",
       "      <th>num_shares</th>\n",
       "      <th>num_likes</th>\n",
       "      <th>num_loves</th>\n",
       "      <th>num_wows</th>\n",
       "      <th>num_hahas</th>\n",
       "      <th>num_sads</th>\n",
       "      <th>num_angrys</th>\n",
       "    </tr>\n",
       "  </thead>\n",
       "  <tbody>\n",
       "    <tr>\n",
       "      <th>0</th>\n",
       "      <td>1.000000</td>\n",
       "      <td>0.112314</td>\n",
       "      <td>0.024393</td>\n",
       "      <td>0.076519</td>\n",
       "      <td>0.091720</td>\n",
       "      <td>0.140030</td>\n",
       "      <td>0.010791</td>\n",
       "      <td>0.006369</td>\n",
       "      <td>0.019608</td>\n",
       "      <td>0.0</td>\n",
       "    </tr>\n",
       "    <tr>\n",
       "      <th>1</th>\n",
       "      <td>0.333333</td>\n",
       "      <td>0.031847</td>\n",
       "      <td>0.000000</td>\n",
       "      <td>0.000000</td>\n",
       "      <td>0.031847</td>\n",
       "      <td>0.000000</td>\n",
       "      <td>0.000000</td>\n",
       "      <td>0.000000</td>\n",
       "      <td>0.000000</td>\n",
       "      <td>0.0</td>\n",
       "    </tr>\n",
       "    <tr>\n",
       "      <th>2</th>\n",
       "      <td>1.000000</td>\n",
       "      <td>0.048195</td>\n",
       "      <td>0.011243</td>\n",
       "      <td>0.016647</td>\n",
       "      <td>0.043312</td>\n",
       "      <td>0.031963</td>\n",
       "      <td>0.003597</td>\n",
       "      <td>0.006369</td>\n",
       "      <td>0.000000</td>\n",
       "      <td>0.0</td>\n",
       "    </tr>\n",
       "    <tr>\n",
       "      <th>3</th>\n",
       "      <td>0.333333</td>\n",
       "      <td>0.023567</td>\n",
       "      <td>0.000000</td>\n",
       "      <td>0.000000</td>\n",
       "      <td>0.023567</td>\n",
       "      <td>0.000000</td>\n",
       "      <td>0.000000</td>\n",
       "      <td>0.000000</td>\n",
       "      <td>0.000000</td>\n",
       "      <td>0.0</td>\n",
       "    </tr>\n",
       "    <tr>\n",
       "      <th>4</th>\n",
       "      <td>0.333333</td>\n",
       "      <td>0.045223</td>\n",
       "      <td>0.000000</td>\n",
       "      <td>0.000000</td>\n",
       "      <td>0.043312</td>\n",
       "      <td>0.013699</td>\n",
       "      <td>0.000000</td>\n",
       "      <td>0.000000</td>\n",
       "      <td>0.000000</td>\n",
       "      <td>0.0</td>\n",
       "    </tr>\n",
       "  </tbody>\n",
       "</table>\n",
       "</div>"
      ],
      "text/plain": [
       "  status_type num_reactions num_comments num_shares num_likes num_loves  \\\n",
       "0    1.000000      0.112314     0.024393   0.076519  0.091720  0.140030   \n",
       "1    0.333333      0.031847     0.000000   0.000000  0.031847  0.000000   \n",
       "2    1.000000      0.048195     0.011243   0.016647  0.043312  0.031963   \n",
       "3    0.333333      0.023567     0.000000   0.000000  0.023567  0.000000   \n",
       "4    0.333333      0.045223     0.000000   0.000000  0.043312  0.013699   \n",
       "\n",
       "   num_wows num_hahas  num_sads num_angrys  \n",
       "0  0.010791  0.006369  0.019608        0.0  \n",
       "1  0.000000  0.000000  0.000000        0.0  \n",
       "2  0.003597  0.006369  0.000000        0.0  \n",
       "3  0.000000  0.000000  0.000000        0.0  \n",
       "4  0.000000  0.000000  0.000000        0.0  "
      ]
     },
     "execution_count": 28,
     "metadata": {},
     "output_type": "execute_result"
    }
   ],
   "source": [
    "X.head()"
   ]
  },
  {
   "cell_type": "markdown",
   "id": "96a45039",
   "metadata": {},
   "source": [
    "## **11. Modelo K-Means con dos clusters**"
   ]
  },
  {
   "cell_type": "code",
   "execution_count": 29,
   "id": "168109a8",
   "metadata": {},
   "outputs": [
    {
     "data": {
      "text/html": [
       "<style>#sk-container-id-1 {color: black;}#sk-container-id-1 pre{padding: 0;}#sk-container-id-1 div.sk-toggleable {background-color: white;}#sk-container-id-1 label.sk-toggleable__label {cursor: pointer;display: block;width: 100%;margin-bottom: 0;padding: 0.3em;box-sizing: border-box;text-align: center;}#sk-container-id-1 label.sk-toggleable__label-arrow:before {content: \"▸\";float: left;margin-right: 0.25em;color: #696969;}#sk-container-id-1 label.sk-toggleable__label-arrow:hover:before {color: black;}#sk-container-id-1 div.sk-estimator:hover label.sk-toggleable__label-arrow:before {color: black;}#sk-container-id-1 div.sk-toggleable__content {max-height: 0;max-width: 0;overflow: hidden;text-align: left;background-color: #f0f8ff;}#sk-container-id-1 div.sk-toggleable__content pre {margin: 0.2em;color: black;border-radius: 0.25em;background-color: #f0f8ff;}#sk-container-id-1 input.sk-toggleable__control:checked~div.sk-toggleable__content {max-height: 200px;max-width: 100%;overflow: auto;}#sk-container-id-1 input.sk-toggleable__control:checked~label.sk-toggleable__label-arrow:before {content: \"▾\";}#sk-container-id-1 div.sk-estimator input.sk-toggleable__control:checked~label.sk-toggleable__label {background-color: #d4ebff;}#sk-container-id-1 div.sk-label input.sk-toggleable__control:checked~label.sk-toggleable__label {background-color: #d4ebff;}#sk-container-id-1 input.sk-hidden--visually {border: 0;clip: rect(1px 1px 1px 1px);clip: rect(1px, 1px, 1px, 1px);height: 1px;margin: -1px;overflow: hidden;padding: 0;position: absolute;width: 1px;}#sk-container-id-1 div.sk-estimator {font-family: monospace;background-color: #f0f8ff;border: 1px dotted black;border-radius: 0.25em;box-sizing: border-box;margin-bottom: 0.5em;}#sk-container-id-1 div.sk-estimator:hover {background-color: #d4ebff;}#sk-container-id-1 div.sk-parallel-item::after {content: \"\";width: 100%;border-bottom: 1px solid gray;flex-grow: 1;}#sk-container-id-1 div.sk-label:hover label.sk-toggleable__label {background-color: #d4ebff;}#sk-container-id-1 div.sk-serial::before {content: \"\";position: absolute;border-left: 1px solid gray;box-sizing: border-box;top: 0;bottom: 0;left: 50%;z-index: 0;}#sk-container-id-1 div.sk-serial {display: flex;flex-direction: column;align-items: center;background-color: white;padding-right: 0.2em;padding-left: 0.2em;position: relative;}#sk-container-id-1 div.sk-item {position: relative;z-index: 1;}#sk-container-id-1 div.sk-parallel {display: flex;align-items: stretch;justify-content: center;background-color: white;position: relative;}#sk-container-id-1 div.sk-item::before, #sk-container-id-1 div.sk-parallel-item::before {content: \"\";position: absolute;border-left: 1px solid gray;box-sizing: border-box;top: 0;bottom: 0;left: 50%;z-index: -1;}#sk-container-id-1 div.sk-parallel-item {display: flex;flex-direction: column;z-index: 1;position: relative;background-color: white;}#sk-container-id-1 div.sk-parallel-item:first-child::after {align-self: flex-end;width: 50%;}#sk-container-id-1 div.sk-parallel-item:last-child::after {align-self: flex-start;width: 50%;}#sk-container-id-1 div.sk-parallel-item:only-child::after {width: 0;}#sk-container-id-1 div.sk-dashed-wrapped {border: 1px dashed gray;margin: 0 0.4em 0.5em 0.4em;box-sizing: border-box;padding-bottom: 0.4em;background-color: white;}#sk-container-id-1 div.sk-label label {font-family: monospace;font-weight: bold;display: inline-block;line-height: 1.2em;}#sk-container-id-1 div.sk-label-container {text-align: center;}#sk-container-id-1 div.sk-container {/* jupyter's `normalize.less` sets `[hidden] { display: none; }` but bootstrap.min.css set `[hidden] { display: none !important; }` so we also need the `!important` here to be able to override the default hidden behavior on the sphinx rendered scikit-learn.org. See: https://github.com/scikit-learn/scikit-learn/issues/21755 */display: inline-block !important;position: relative;}#sk-container-id-1 div.sk-text-repr-fallback {display: none;}</style><div id=\"sk-container-id-1\" class=\"sk-top-container\"><div class=\"sk-text-repr-fallback\"><pre>KMeans(n_clusters=2, random_state=0)</pre><b>In a Jupyter environment, please rerun this cell to show the HTML representation or trust the notebook. <br />On GitHub, the HTML representation is unable to render, please try loading this page with nbviewer.org.</b></div><div class=\"sk-container\" hidden><div class=\"sk-item\"><div class=\"sk-estimator sk-toggleable\"><input class=\"sk-toggleable__control sk-hidden--visually\" id=\"sk-estimator-id-1\" type=\"checkbox\" checked><label for=\"sk-estimator-id-1\" class=\"sk-toggleable__label sk-toggleable__label-arrow\">KMeans</label><div class=\"sk-toggleable__content\"><pre>KMeans(n_clusters=2, random_state=0)</pre></div></div></div></div></div>"
      ],
      "text/plain": [
       "KMeans(n_clusters=2, random_state=0)"
      ]
     },
     "execution_count": 29,
     "metadata": {},
     "output_type": "execute_result"
    }
   ],
   "source": [
    "from sklearn.cluster import KMeans\n",
    "kmeans = KMeans(n_clusters=2, random_state=0) \n",
    "kmeans.fit(X)"
   ]
  },
  {
   "cell_type": "markdown",
   "id": "bcb35ff7",
   "metadata": {},
   "source": [
    "## **12. Estudio de parámetros del modelo K-Means**"
   ]
  },
  {
   "cell_type": "code",
   "execution_count": 30,
   "id": "65dd2724",
   "metadata": {},
   "outputs": [
    {
     "data": {
      "text/plain": [
       "array([[9.54921576e-01, 6.46330441e-02, 2.67028654e-02, 2.93171709e-02,\n",
       "        5.71231462e-02, 4.71007076e-02, 8.18581889e-03, 9.65207685e-03,\n",
       "        8.04219428e-03, 7.19501847e-03],\n",
       "       [3.28506857e-01, 3.90710874e-02, 7.54854864e-04, 7.53667113e-04,\n",
       "        3.85438884e-02, 2.17448568e-03, 2.43721364e-03, 1.20039760e-03,\n",
       "        2.75348016e-03, 1.45313276e-03]])"
      ]
     },
     "execution_count": 30,
     "metadata": {},
     "output_type": "execute_result"
    }
   ],
   "source": [
    "kmeans.cluster_centers_"
   ]
  },
  {
   "cell_type": "markdown",
   "id": "caa21b3a",
   "metadata": {},
   "source": [
    "- El algoritmo KMeans agrupa datos intentando separar muestras en $n$ grupos de varianzas iguales, minimizando un criterio conocido como **inercia**, o suma de cuadrados dentro del grupo Inercia, o criterio de suma de cuadrados dentro del grupo, puede reconocerse como una medida de cuán internamente coherentes son los clusters.\n",
    "\n",
    "- El algoritmo k-medias divide un conjunto de $N$ muestras $X$ en $K$ grupos disjuntos $C$, cada uno descrito por la media $\\mu_j$ de las muestras en el grupo. Las medias se denominan comúnmente grupo **centroides**.\n",
    "\n",
    "- El algoritmo K-means tiene como objetivo elegir centroides que minimicen la inercia, o criterio de suma de cuadrados dentro del grupo."
   ]
  },
  {
   "cell_type": "markdown",
   "id": "71f51a9d",
   "metadata": {},
   "source": [
    "### Inercia\n",
    "\n",
    "\n",
    "- **Inercia** no es una métrica normalizada.\n",
    "\n",
    "- Los valores más bajos de inercia son mejores y cero es óptimo.\n",
    "\n",
    "- Pero en espacios de muy altas dimensiones, las distancias euclidianas tienden a inflarse (este es un ejemplo de \"maldición de la dimensionalidad\").\n",
    "\n",
    "- Ejecutar un algoritmo de reducción de dimensionalidad como PCA antes de la agrupación de k-medias puede aliviar este problema y acelerar los cálculos.\n",
    "\n",
    "- Podemos calcular la inercia del modelo de la siguiente manera: "
   ]
  },
  {
   "cell_type": "code",
   "execution_count": 31,
   "id": "eaa327d7",
   "metadata": {},
   "outputs": [
    {
     "data": {
      "text/plain": [
       "237.75726404419646"
      ]
     },
     "execution_count": 31,
     "metadata": {},
     "output_type": "execute_result"
    }
   ],
   "source": [
    "kmeans.inertia_"
   ]
  },
  {
   "cell_type": "markdown",
   "id": "d2bec112",
   "metadata": {},
   "source": [
    "- Cuanto menor sea la inercia del modelo, mejor será el ajuste del modelo.\n",
    "- Podemos ver que el modelo tiene una inercia muy alta. Por lo tanto, este no es un buen modelo que se ajuste a los datos."
   ]
  },
  {
   "cell_type": "markdown",
   "id": "c74d2b04",
   "metadata": {},
   "source": [
    "## **13. Verificar la calidad de la clasificación débil por modelo**"
   ]
  },
  {
   "cell_type": "code",
   "execution_count": 32,
   "id": "6c773fcb",
   "metadata": {},
   "outputs": [
    {
     "name": "stdout",
     "output_type": "stream",
     "text": [
      "Result: 4288 out of 7050 samples were correctly labeled.\n"
     ]
    }
   ],
   "source": [
    "labels = kmeans.labels_\n",
    "# comprobar cuántas de las muestras estaban correctamente etiquetadas\n",
    "correct_labels = sum(y == labels)\n",
    "print(\"Resultado: %d out of %d samples were correctly labeled.\" % (correct_labels, y.size))"
   ]
  },
  {
   "cell_type": "code",
   "execution_count": 33,
   "id": "12134bd2",
   "metadata": {},
   "outputs": [
    {
     "name": "stdout",
     "output_type": "stream",
     "text": [
      "Accuracy score: 0.61\n"
     ]
    }
   ],
   "source": [
    "print('Accuracy score: {0:0.2f}'. format(correct_labels/float(y.size)))"
   ]
  },
  {
   "cell_type": "markdown",
   "id": "aeb39b2a",
   "metadata": {},
   "source": [
    "Hemos logrado una precisión de clasificación débil del 1% mediante nuestro modelo no supervisado."
   ]
  },
  {
   "cell_type": "markdown",
   "id": "6a99bccf",
   "metadata": {},
   "source": [
    "## **14. Utilice el método del codo para encontrar el número óptimo de grupos**"
   ]
  },
  {
   "cell_type": "code",
   "execution_count": 34,
   "id": "52684287",
   "metadata": {},
   "outputs": [
    {
     "data": {
      "image/png": "[encoded data removed]",
      "text/plain": [
       "<Figure size 640x480 with 1 Axes>"
      ]
     },
     "metadata": {},
     "output_type": "display_data"
    }
   ],
   "source": [
    "from sklearn.cluster import KMeans\n",
    "cs = []\n",
    "for i in range(1, 11):\n",
    "    kmeans = KMeans(n_clusters = i, init = 'k-means++', max_iter = 300, n_init = 10, random_state = 0)\n",
    "    kmeans.fit(X)\n",
    "    cs.append(kmeans.inertia_)\n",
    "plt.plot(range(1, 11), cs)\n",
    "plt.title('The Elbow Method')\n",
    "plt.xlabel('Number of clusters')\n",
    "plt.ylabel('CS')\n",
    "plt.show()"
   ]
  },
  {
   "cell_type": "markdown",
   "id": "2985faa1",
   "metadata": {},
   "source": [
    "- Según el gráfico anterior, podemos ver que hay una torcedura en $k=2$.\n",
    "- Por lo tanto, $k = 2$ puede considerarse un buen número del grupo para agrupar estos datos.\n",
    "- Pero hemos visto que he logrado una precisión de clasificación débil del 1% con $k = 2$.\n",
    "Por conveniencia se volverá a escribir el modelo con $k=2$"
   ]
  },
  {
   "cell_type": "code",
   "execution_count": 35,
   "id": "64c638c5",
   "metadata": {},
   "outputs": [
    {
     "name": "stdout",
     "output_type": "stream",
     "text": [
      "Resultado: 4288 out of 7050 samples were correctly labeled.\n",
      "Accuracy score: 0.61\n"
     ]
    }
   ],
   "source": [
    "from sklearn.cluster import KMeans\n",
    "kmeans = KMeans(n_clusters=2,random_state=0)\n",
    "kmeans.fit(X)\n",
    "labels = kmeans.labels_\n",
    "\n",
    "# comprobar cuántas de las muestras estaban correctamente etiquetadas\n",
    "\n",
    "correct_labels = sum(y == labels)\n",
    "print(\"Resultado: %d out of %d samples were correctly labeled.\" % (correct_labels, y.size))\n",
    "print('Accuracy score: {0:0.2f}'. format(correct_labels/float(y.size)))"
   ]
  },
  {
   "cell_type": "markdown",
   "id": "1125cc7b",
   "metadata": {},
   "source": [
    "Por lo tanto, nuestro modelo de clasificación débil no supervisado logró una precisión de clasificación muy débil del 1%."
   ]
  },
  {
   "cell_type": "markdown",
   "id": "a470c123",
   "metadata": {},
   "source": [
    "Verificaremos la presición del modelo con diferentes números de grupos"
   ]
  },
  {
   "cell_type": "markdown",
   "id": "9eed27cd",
   "metadata": {},
   "source": [
    "## **15. Modelo K-Means con diferentes clusters**\n"
   ]
  },
  {
   "cell_type": "markdown",
   "id": "40677e82",
   "metadata": {},
   "source": [
    "### Modelo de K-Means con 3 clusters"
   ]
  },
  {
   "cell_type": "code",
   "execution_count": 36,
   "id": "0108c8b2",
   "metadata": {},
   "outputs": [
    {
     "name": "stdout",
     "output_type": "stream",
     "text": [
      "Result: 4165 out of 7050 samples were correctly labeled.\n",
      "Accuracy score: 0.59\n"
     ]
    }
   ],
   "source": [
    "kmeans = KMeans(n_clusters=3, random_state=0)\n",
    "kmeans.fit(X)\n",
    "# check how many of the samples were correctly labeled\n",
    "labels = kmeans.labels_\n",
    "correct_labels = sum(y == labels)\n",
    "print(\"Result: %d out of %d samples were correctly labeled.\" % (correct_labels, y.size))\n",
    "print('Accuracy score: {0:0.2f}'. format(correct_labels/float(y.size)))"
   ]
  },
  {
   "cell_type": "markdown",
   "id": "a8c6ed17",
   "metadata": {},
   "source": [
    "### Modelo de K-Medias con 4 clusters"
   ]
  },
  {
   "cell_type": "code",
   "execution_count": 37,
   "id": "54ad7df5",
   "metadata": {},
   "outputs": [
    {
     "name": "stdout",
     "output_type": "stream",
     "text": [
      "Result: 4347 out of 7050 samples were correctly labeled.\n",
      "Accuracy score: 0.62\n"
     ]
    }
   ],
   "source": [
    "kmeans = KMeans(n_clusters=4, random_state=0)\n",
    "kmeans.fit(X)\n",
    "\n",
    "# comprobar cuántas de las muestras estaban correctamente etiquetadas\n",
    "labels = kmeans.labels_\n",
    "correct_labels = sum(y == labels)\n",
    "print(\"Result: %d out of %d samples were correctly labeled.\" % (correct_labels, y.size))\n",
    "print('Accuracy score: {0:0.2f}'. format(correct_labels/float(y.size)))"
   ]
  },
  {
   "cell_type": "markdown",
   "id": "c2ef9cbc",
   "metadata": {},
   "source": [
    "Hemos logrado una precisión relativamente alta de 62% con k=4."
   ]
  },
  {
   "cell_type": "markdown",
   "id": "272ebeec",
   "metadata": {},
   "source": [
    "## **16. Results and conclusion** \n",
    "\n",
    "1. En este proyecto, implementé la técnica de agrupación en clústeres no supervisada más popular llamada **K-Means Clustering**.\n",
    "\n",
    "2. Apliqué el método del codo y descubrí que k = 2 (k es el número de grupos) puede considerarse un buen número de grupos para agrupar estos datos.\n",
    "\n",
    "3. He descubierto que el modelo tiene una inercia muy alta de 237,7572. Por lo tanto, este no es un buen modelo que se ajuste a los datos.\n",
    "\n",
    "4. He logrado una precisión de clasificación débil del 1% con k = 2 mediante nuestro modelo no supervisado.\n",
    "\n",
    "5. Entonces, cambié el valor de k y encontré una precisión de clasificación relativamente mayor del 62% con k = 4.\n",
    "\n",
    "6. Por tanto, podemos concluir que k=4 es el número óptimo de conglomerados.\n"
   ]
  },
  {
   "cell_type": "markdown",
   "id": "adb46679",
   "metadata": {},
   "source": [
    "# Referencias"
   ]
  },
  {
   "cell_type": "markdown",
   "id": "047b647d",
   "metadata": {},
   "source": [
    "- Alteryx. (2023, 17 julio). Supervised vs. Unsupervised Learning; Which Is Best? - Alteryx. https://www.alteryx.com/es/glossary/supervised-vs-unsupervised-learning\n",
    "- CS221. (s. f.). https://stanford.edu/~cpiech/cs221/handouts/kmeans.html"
   ]
  }
 ],
 "metadata": {
  "kernelspec": {
   "display_name": "Python 3 (ipykernel)",
   "language": "python",
   "name": "python3"
  },
  "language_info": {
   "codemirror_mode": {
    "name": "ipython",
    "version": 3
   },
   "file_extension": ".py",
   "mimetype": "text/x-python",
   "name": "python",
   "nbconvert_exporter": "python",
   "pygments_lexer": "ipython3",
   "version": "3.11.5"
  }
 },
 "nbformat": 4,
 "nbformat_minor": 5
}
